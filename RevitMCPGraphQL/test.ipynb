{
 "cells": [
  {
   "cell_type": "code",
   "execution_count": 32,
   "id": "f3808f95",
   "metadata": {},
   "outputs": [
    {
     "name": "stdout",
     "output_type": "stream",
     "text": [
      "200\n",
      "Revit GraphQL server is running. POST GraphQL to /graphql\n"
     ]
    }
   ],
   "source": [
    "import requests\n",
    "\n",
    "url = \"http://localhost:5000\"\n",
    "response = requests.get(url)\n",
    "print(response.status_code)\n",
    "print(response.text)"
   ]
  },
  {
   "cell_type": "code",
   "execution_count": 33,
   "id": "42242bb5",
   "metadata": {},
   "outputs": [
    {
     "name": "stdout",
     "output_type": "stream",
     "text": [
      "{\n",
      "  \"data\": {\n",
      "    \"health\": \"ok\"\n",
      "  }\n",
      "}\n"
     ]
    }
   ],
   "source": [
    "import requests\n",
    "\n",
    "url = \"http://localhost:5000/graphql\"\n",
    "query = \"\"\"\n",
    "{\n",
    "  health\n",
    "}\n",
    "\"\"\"\n",
    "\n",
    "response = requests.post(url, json={'query': query})\n",
    "data = response.json()\n",
    "import json\n",
    "# print indented JSON response\n",
    "print(json.dumps(data, indent=2))\n"
   ]
  },
  {
   "cell_type": "code",
   "execution_count": null,
   "id": "24381b6a",
   "metadata": {},
   "outputs": [],
   "source": [
    "import requests\n",
    "import json\n",
    "\n",
    "url = \"http://localhost:5000/graphql\"  # Change port if needed\n",
    "\n",
    "introspection_query = \"\"\"\n",
    "{\n",
    "  __schema {\n",
    "    types {\n",
    "      name\n",
    "      fields {\n",
    "        name\n",
    "        type {\n",
    "          name\n",
    "          kind\n",
    "          ofType {\n",
    "            name\n",
    "            kind\n",
    "          }\n",
    "        }\n",
    "      }\n",
    "    }\n",
    "  }\n",
    "}\n",
    "\"\"\"\n",
    "\n",
    "payload = {\n",
    "    \"query\": introspection_query\n",
    "}\n",
    "\n",
    "response = requests.post(url, json=payload)\n",
    "print(json.dumps(response.json(), indent=2))"
   ]
  },
  {
   "cell_type": "code",
   "execution_count": 122,
   "id": "190c03c3",
   "metadata": {},
   "outputs": [
    {
     "name": "stdout",
     "output_type": "stream",
     "text": [
      "{\n",
      "  \"data\": {\n",
      "    \"document\": {\n",
      "      \"title\": \"ARC Model\",\n",
      "      \"isFamilyDocument\": false\n",
      "    }\n",
      "  }\n",
      "}\n"
     ]
    }
   ],
   "source": [
    "import requests\n",
    "import json\n",
    "\n",
    "url = \"http://localhost:5000/graphql\"\n",
    "query = \"\"\"\n",
    "{\n",
    "  document {\n",
    "      title\n",
    "      isFamilyDocument\n",
    "  }\n",
    "}\n",
    "\"\"\"\n",
    "\n",
    "response = requests.post(url, json={'query': query})\n",
    "print(json.dumps(response.json(), indent=2))\n"
   ]
  },
  {
   "cell_type": "code",
   "execution_count": 110,
   "id": "f62b12a7",
   "metadata": {},
   "outputs": [
    {
     "name": "stdout",
     "output_type": "stream",
     "text": [
      "{\n",
      "  \"data\": {\n",
      "    \"categories\": [\n",
      "      {\n",
      "        \"id\": -2006208,\n",
      "        \"name\": \"Abutment Foundation Tags\",\n",
      "        \"builtInCategory\": \"OST_AbutmentFoundationTags\",\n",
      "        \"categoryType\": \"Annotation\",\n",
      "        \"isCuttable\": false,\n",
      "        \"allowsBoundParameters\": false,\n",
      "        \"isTagCategory\": true,\n",
      "        \"canAddSubcategory\": true\n",
      "      },\n",
      "      {\n",
      "        \"id\": -2006209,\n",
      "        \"name\": \"Abutment Pile Tags\",\n",
      "        \"builtInCategory\": \"OST_AbutmentPileTags\",\n",
      "        \"categoryType\": \"Annotation\",\n",
      "        \"isCuttable\": false,\n",
      "        \"allowsBoundParameters\": false,\n",
      "        \"isTagCategory\": true,\n",
      "        \"canAddSubcategory\": true\n",
      "      }\n",
      "    ]\n",
      "  }\n",
      "}\n"
     ]
    }
   ],
   "source": [
    "import requests\n",
    "import json\n",
    "\n",
    "url = \"http://localhost:5000/graphql\"\n",
    "query = \"\"\"\n",
    "{\n",
    "  categories(limit:2) {\n",
    "    id\n",
    "    name\n",
    "    builtInCategory\n",
    "    categoryType\n",
    "    isCuttable\n",
    "    allowsBoundParameters\n",
    "    isTagCategory\n",
    "    canAddSubcategory\n",
    "  }\n",
    "}\n",
    "\"\"\"\n",
    "\n",
    "response = requests.post(url, json={'query': query})\n",
    "print(json.dumps(response.json(), indent=2))\n"
   ]
  },
  {
   "cell_type": "code",
   "execution_count": null,
   "id": "976108b9",
   "metadata": {},
   "outputs": [],
   "source": [
    "query = \"\"\"\n",
    "{\n",
    "  elements(categoryName: \"Rooms\") {\n",
    "    id\n",
    "    name\n",
    "    parameters{\n",
    "      name\n",
    "      value\n",
    "    }\n",
    "  }\n",
    "}\n",
    "\"\"\"\n",
    "# Replace \"Walls\" with any valid category name in your model.\n",
    "response = requests.post(url, json={'query': query})\n",
    "print(json.dumps(response.json(), indent=2))"
   ]
  },
  {
   "cell_type": "code",
   "execution_count": 69,
   "id": "b0dec2cf",
   "metadata": {},
   "outputs": [
    {
     "name": "stdout",
     "output_type": "stream",
     "text": [
      "{\n",
      "  \"data\": {\n",
      "    \"rooms\": [\n",
      "      {\n",
      "        \"id\": 349441,\n",
      "        \"name\": \"one room 1\",\n",
      "        \"number\": \"1\",\n",
      "        \"area\": 822.7933122532913\n",
      "      }\n",
      "    ]\n",
      "  }\n",
      "}\n"
     ]
    }
   ],
   "source": [
    "query = \"\"\"\n",
    "{\n",
    "  rooms {\n",
    "    id\n",
    "    name\n",
    "    number\n",
    "    area\n",
    "  }\n",
    "}\n",
    "\"\"\"\n",
    "response = requests.post(url, json={'query': query})\n",
    "print(json.dumps(response.json(), indent=2))"
   ]
  },
  {
   "cell_type": "code",
   "execution_count": 116,
   "id": "b20ab6e8",
   "metadata": {},
   "outputs": [
    {
     "name": "stdout",
     "output_type": "stream",
     "text": [
      "Status Code: 200\n",
      "Response JSON: {'data': {'setElementParametersBatch': True}}\n"
     ]
    }
   ],
   "source": [
    "mutation = '''\n",
    "mutation setElementParametersBatch($inputs: [ElementParametersInput!]!) {\n",
    "    setElementParametersBatch(inputs: $inputs)\n",
    "}\n",
    "'''\n",
    "# IMPORTANT: $inputs must be a LIST of ElementParametersInput objects, NOT an object containing an \"inputs\" property.\n",
    "# So batch_inputs should be a Python list, not a dict wrapping that list.\n",
    "\n",
    "batch_inputs = [\n",
    "    {\n",
    "        \"elementId\": 349189,  # Use a real element id from your model\n",
    "        \"parameters\": [\n",
    "            {\"parameterName\": \"Mark\", \"value\": \"323232\"},\n",
    "            {\"parameterName\": \"Width\", \"value\": \"1500\"}\n",
    "        ]\n",
    "    }\n",
    "]\n",
    "\n",
    "payload = {\n",
    "    'query': mutation,\n",
    "    'variables': { 'inputs': batch_inputs }\n",
    "}\n",
    "\n",
    "import json, requests\n",
    "response = requests.post(url, json=payload)\n",
    "print('Status Code:', response.status_code)\n",
    "print('Response JSON:', response.json())"
   ]
  }
 ],
 "metadata": {
  "kernelspec": {
   "display_name": "base",
   "language": "python",
   "name": "python3"
  },
  "language_info": {
   "codemirror_mode": {
    "name": "ipython",
    "version": 3
   },
   "file_extension": ".py",
   "mimetype": "text/x-python",
   "name": "python",
   "nbconvert_exporter": "python",
   "pygments_lexer": "ipython3",
   "version": "3.12.9"
  }
 },
 "nbformat": 4,
 "nbformat_minor": 5
}
