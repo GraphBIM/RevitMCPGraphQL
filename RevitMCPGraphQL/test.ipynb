{
 "cells": [
  {
   "cell_type": "code",
   "execution_count": 8,
   "id": "f3808f95",
   "metadata": {},
   "outputs": [
    {
     "name": "stdout",
     "output_type": "stream",
     "text": [
      "200\n",
      "Revit GraphQL server is running. POST GraphQL to /graphql\n"
     ]
    }
   ],
   "source": [
    "import requests\n",
    "\n",
    "url = \"http://localhost:5000\"\n",
    "response = requests.get(url)\n",
    "print(response.status_code)\n",
    "print(response.text)"
   ]
  },
  {
   "cell_type": "code",
   "execution_count": 27,
   "id": "42242bb5",
   "metadata": {},
   "outputs": [
    {
     "name": "stdout",
     "output_type": "stream",
     "text": [
      "{\n",
      "  \"data\": {\n",
      "    \"links\": [\n",
      "      {\n",
      "        \"id\": 350045,\n",
      "        \"name\": \"MEP Model.rvt : 3 : location <Not Shared>\"\n",
      "      },\n",
      "      {\n",
      "        \"id\": 350169,\n",
      "        \"name\": \"Site-Shared.rvt : 5 : location Default Site\"\n",
      "      },\n",
      "      {\n",
      "        \"id\": 349830,\n",
      "        \"name\": \"STR Model.rvt : 2 : location <Not Shared>\"\n",
      "      }\n",
      "    ]\n",
      "  }\n",
      "}\n"
     ]
    }
   ],
   "source": [
    "import requests\n",
    "\n",
    "url = \"http://localhost:5000/graphql\"\n",
    "query = \"\"\"\n",
    "{\n",
    "  links {\n",
    "    id\n",
    "    name\n",
    "  }\n",
    "}\n",
    "\"\"\"\n",
    "\n",
    "response = requests.post(url, json={'query': query})\n",
    "data = response.json()\n",
    "import json\n",
    "# print indented JSON response\n",
    "print(json.dumps(data, indent=2))\n"
   ]
  },
  {
   "cell_type": "code",
   "execution_count": 37,
   "id": "d1911b92",
   "metadata": {},
   "outputs": [
    {
     "name": "stdout",
     "output_type": "stream",
     "text": [
      "{\n",
      "  \"data\": {\n",
      "    \"modelHealth\": {\n",
      "      \"warnings\": 0,\n",
      "      \"roomsTotal\": 0,\n",
      "      \"roomsUnplaced\": 0,\n",
      "      \"viewsNotOnSheet\": 17,\n",
      "      \"importInstances\": 0,\n",
      "      \"linkedImports\": 0,\n",
      "      \"inPlaceFamilies\": 0,\n",
      "      \"groups\": 0,\n",
      "      \"designOptions\": 0,\n",
      "      \"worksets\": 358\n",
      "    }\n",
      "  }\n",
      "}\n"
     ]
    }
   ],
   "source": [
    "query = \"\"\"\n",
    "{\n",
    "  modelHealth (documentId:350045) \n",
    "  {\n",
    "    warnings\n",
    "    roomsTotal\n",
    "    roomsUnplaced\n",
    "    viewsNotOnSheet\n",
    "    importInstances\n",
    "    linkedImports\n",
    "    inPlaceFamilies\n",
    "    groups\n",
    "    designOptions\n",
    "    worksets\n",
    "  }\n",
    "}\n",
    "\"\"\"\n",
    "\n",
    "response = requests.post(url, json={'query': query})\n",
    "print(json.dumps(response.json(), indent=2))\n"
   ]
  },
  {
   "cell_type": "code",
   "execution_count": 58,
   "id": "60a38588",
   "metadata": {},
   "outputs": [
    {
     "name": "stdout",
     "output_type": "stream",
     "text": [
      "{\n",
      "  \"data\": {\n",
      "    \"document\": {\n",
      "      \"title\": \"Site-Shared\",\n",
      "      \"pathName\": \"Autodesk Docs://SG_ACC_API_Demo/Site-Shared.rvt\"\n",
      "    }\n",
      "  }\n",
      "}\n"
     ]
    }
   ],
   "source": [
    "query = \"\"\"\n",
    "{\n",
    "    document(documentId:350169)\n",
    "    {\n",
    "        title\n",
    "        pathName\n",
    "    }\n",
    "}\n",
    "\"\"\"\n",
    "response = requests.post(url, json={'query': query})\n",
    "print(json.dumps(response.json(), indent=2)) "
   ]
  },
  {
   "cell_type": "code",
   "execution_count": null,
   "id": "24381b6a",
   "metadata": {},
   "outputs": [],
   "source": [
    "import requests\n",
    "import json\n",
    "\n",
    "url = \"http://localhost:5000/graphql\"  # Change port if needed\n",
    "\n",
    "introspection_query = \"\"\"\n",
    "{\n",
    "  __schema {\n",
    "    types {\n",
    "      name\n",
    "      fields {\n",
    "        name\n",
    "        type {\n",
    "          name\n",
    "          kind\n",
    "          ofType {\n",
    "            name\n",
    "            kind\n",
    "          }\n",
    "        }\n",
    "      }\n",
    "    }\n",
    "  }\n",
    "}\n",
    "\"\"\"\n",
    "\n",
    "payload = {\n",
    "    \"query\": introspection_query\n",
    "}\n",
    "\n",
    "response = requests.post(url, json=payload)\n",
    "print(json.dumps(response.json(), indent=2))"
   ]
  },
  {
   "cell_type": "code",
   "execution_count": null,
   "id": "190c03c3",
   "metadata": {},
   "outputs": [
    {
     "name": "stdout",
     "output_type": "stream",
     "text": [
      "{\n",
      "  \"data\": {\n",
      "    \"modelHealth\": {\n",
      "      \"warnings\": 224,\n",
      "      \"roomsTotal\": 0,\n",
      "      \"roomsUnplaced\": 0,\n",
      "      \"viewsNotOnSheet\": 90,\n",
      "      \"importInstances\": 0,\n",
      "      \"linkedImports\": 0,\n",
      "      \"inPlaceFamilies\": 37,\n",
      "      \"groups\": 130,\n",
      "      \"designOptions\": 0,\n",
      "      \"worksets\": 1\n",
      "    }\n",
      "  }\n",
      "}\n"
     ]
    }
   ],
   "source": [
    "import requests\n",
    "import json\n",
    "\n",
    "url = \"http://localhost:5000/graphql\"\n",
    "query = \"\"\"\n",
    "{\n",
    "  document {\n",
    "      title\n",
    "      isFamilyDocument\n",
    "  }\n",
    "}\n",
    "\"\"\"\n",
    "\n",
    "response = requests.post(url, json={'query': query})\n",
    "print(json.dumps(response.json(), indent=2))\n"
   ]
  },
  {
   "cell_type": "code",
   "execution_count": 11,
   "id": "f62b12a7",
   "metadata": {},
   "outputs": [
    {
     "name": "stdout",
     "output_type": "stream",
     "text": [
      "{\n",
      "  \"data\": {\n",
      "    \"categories\": [\n",
      "      {\n",
      "        \"id\": -2000045,\n",
      "        \"name\": \"<Sketch>\",\n",
      "        \"builtInCategory\": \"OST_SketchLines\",\n",
      "        \"categoryType\": \"Model\",\n",
      "        \"isCuttable\": false,\n",
      "        \"allowsBoundParameters\": false,\n",
      "        \"isTagCategory\": false,\n",
      "        \"canAddSubcategory\": false\n",
      "      },\n",
      "      {\n",
      "        \"id\": -2009662,\n",
      "        \"name\": \"Analytical Members\",\n",
      "        \"builtInCategory\": \"OST_AnalyticalMember\",\n",
      "        \"categoryType\": \"AnalyticalModel\",\n",
      "        \"isCuttable\": false,\n",
      "        \"allowsBoundParameters\": true,\n",
      "        \"isTagCategory\": false,\n",
      "        \"canAddSubcategory\": true\n",
      "      },\n",
      "      {\n",
      "        \"id\": -2009645,\n",
      "        \"name\": \"Analytical Nodes\",\n",
      "        \"builtInCategory\": \"OST_AnalyticalNodes\",\n",
      "        \"categoryType\": \"AnalyticalModel\",\n",
      "        \"isCuttable\": false,\n",
      "        \"allowsBoundParameters\": true,\n",
      "        \"isTagCategory\": false,\n",
      "        \"canAddSubcategory\": true\n",
      "      }\n",
      "    ]\n",
      "  }\n",
      "}\n"
     ]
    }
   ],
   "source": [
    "import requests\n",
    "import json\n",
    "\n",
    "url = \"http://localhost:5000/graphql\"\n",
    "query = \"\"\"\n",
    "{\n",
    "  categories(limit:3) {\n",
    "    id\n",
    "    name\n",
    "    builtInCategory\n",
    "    categoryType\n",
    "    isCuttable\n",
    "    allowsBoundParameters\n",
    "    isTagCategory\n",
    "    canAddSubcategory\n",
    "  }\n",
    "}\n",
    "\"\"\"\n",
    "\n",
    "response = requests.post(url, json={'query': query})\n",
    "print(json.dumps(response.json(), indent=2))\n"
   ]
  },
  {
   "cell_type": "code",
   "execution_count": 4,
   "id": "976108b9",
   "metadata": {},
   "outputs": [
    {
     "name": "stdout",
     "output_type": "stream",
     "text": [
      "{\n",
      "  \"errors\": [\n",
      "    {\n",
      "      \"ClassName\": \"GraphQL.Execution.UnhandledError\",\n",
      "      \"Message\": \"Error executing document.\",\n",
      "      \"Data\": null,\n",
      "      \"InnerException\": {\n",
      "        \"ClassName\": \"System.InvalidOperationException\",\n",
      "        \"Message\": \"A different instance of the GraphType 'ObjectGraphType' with the name 'Object' has already been registered within the schema. Please use the same instance for all references within the schema, or use GraphQLTypeReference to reference a type instantiated elsewhere.\\r\\nTo view additional trace enable GlobalSwitches.TrackGraphTypeInitialization switch.\",\n",
      "        \"Data\": {},\n",
      "        \"InnerException\": null,\n",
      "        \"HelpURL\": null,\n",
      "        \"StackTraceString\": \"   at GraphQL.Types.SchemaTypes.EnsureTypeEquality(IGraphType existingType, IGraphType newType, TypeCollectionContext context)\\r\\n   at GraphQL.Types.SchemaTypes.AddTypeIfNotRegistered(IGraphType type, TypeCollectionContext context)\\r\\n   at GraphQL.Types.SchemaTypes.Initialize(ISchema schema, IServiceProvider serviceProvider, IEnumerable`1 graphTypeMappings)\\r\\n   at GraphQL.Types.SchemaTypes..ctor(ISchema schema, IServiceProvider serviceProvider, IEnumerable`1 graphTypeMappings)\\r\\n   at GraphQL.Types.SchemaTypes..ctor(ISchema schema, IServiceProvider serviceProvider)\\r\\n   at GraphQL.Types.Schema.CreateSchemaTypes()\\r\\n   at GraphQL.Types.Schema.CreateAndInitializeSchemaTypes()\\r\\n   at GraphQL.Types.Schema.Initialize()\\r\\n--- End of stack trace from previous location where exception was thrown ---\\r\\n   at System.Runtime.ExceptionServices.ExceptionDispatchInfo.Throw()\\r\\n   at GraphQL.Types.Schema.Initialize()\\r\\n   at GraphQL.DocumentExecuter.<CoreExecuteAsync>d__9.MoveNext()\",\n",
      "        \"RemoteStackTraceString\": null,\n",
      "        \"RemoteStackIndex\": 0,\n",
      "        \"ExceptionMethod\": \"8\\nEnsureTypeEquality\\nGraphQL, Version=8.5.0.0, Culture=neutral, PublicKeyToken=e6238258560628ee\\nGraphQL.Types.SchemaTypes\\nVoid EnsureTypeEquality(GraphQL.Types.IGraphType, GraphQL.Types.IGraphType, GraphQL.Types.TypeCollectionContext)\",\n",
      "        \"HResult\": -2146233079,\n",
      "        \"Source\": \"GraphQL\",\n",
      "        \"WatsonBuckets\": null\n",
      "      },\n",
      "      \"HelpURL\": null,\n",
      "      \"StackTraceString\": null,\n",
      "      \"RemoteStackTraceString\": null,\n",
      "      \"RemoteStackIndex\": 0,\n",
      "      \"ExceptionMethod\": null,\n",
      "      \"HResult\": -2146233088,\n",
      "      \"Source\": null,\n",
      "      \"WatsonBuckets\": null\n",
      "    }\n",
      "  ]\n",
      "}\n"
     ]
    }
   ],
   "source": [
    "query = \"\"\"\n",
    "{\n",
    "  elements(categoryName: \"Rooms\") {\n",
    "    id\n",
    "    name\n",
    "    parameters{\n",
    "      name\n",
    "      value\n",
    "    }\n",
    "  }\n",
    "}\n",
    "\"\"\"\n",
    "# Replace \"Walls\" with any valid category name in your model.\n",
    "response = requests.post(url, json={'query': query})\n",
    "print(json.dumps(response.json(), indent=2))"
   ]
  },
  {
   "cell_type": "code",
   "execution_count": 7,
   "id": "b0dec2cf",
   "metadata": {},
   "outputs": [
    {
     "name": "stdout",
     "output_type": "stream",
     "text": [
      "{\n",
      "  \"data\": {\n",
      "    \"rooms\": []\n",
      "  }\n",
      "}\n"
     ]
    }
   ],
   "source": [
    "query = \"\"\"\n",
    "{\n",
    "  rooms {\n",
    "    id\n",
    "    name\n",
    "    number\n",
    "    area\n",
    "  }\n",
    "}\n",
    "\"\"\"\n",
    "response = requests.post(url, json={'query': query})\n",
    "print(json.dumps(response.json(), indent=2))"
   ]
  },
  {
   "cell_type": "code",
   "execution_count": 15,
   "id": "b20ab6e8",
   "metadata": {},
   "outputs": [
    {
     "name": "stdout",
     "output_type": "stream",
     "text": [
      "Status Code: 200\n",
      "Response JSON: {'data': {'setElementParametersBatch': True}}\n"
     ]
    }
   ],
   "source": [
    "mutation = '''\n",
    "mutation setElementParametersBatch($inputs: [ElementParametersInput!]!) {\n",
    "    setElementParametersBatch(inputs: $inputs)\n",
    "}\n",
    "'''\n",
    "# IMPORTANT: $inputs must be a LIST of ElementParametersInput objects, NOT an object containing an \"inputs\" property.\n",
    "# So batch_inputs should be a Python list, not a dict wrapping that list.\n",
    "\n",
    "batch_inputs = [\n",
    "    {\n",
    "        \"elementId\": 4379125,  # Use a real element id from your model\n",
    "        \"parameters\": [\n",
    "            {\"parameterName\": \"Mark\", \"value\": \"Hello \"},\n",
    "            {\"parameterName\": \"Width\", \"value\": \"1500\"}\n",
    "        ]\n",
    "    }\n",
    "]\n",
    "\n",
    "payload = {\n",
    "    'query': mutation,\n",
    "    'variables': { 'inputs': batch_inputs }\n",
    "}\n",
    "\n",
    "import json, requests\n",
    "response = requests.post(url, json=payload)\n",
    "print('Status Code:', response.status_code)\n",
    "print('Response JSON:', response.json())"
   ]
  }
 ],
 "metadata": {
  "kernelspec": {
   "display_name": "base",
   "language": "python",
   "name": "python3"
  },
  "language_info": {
   "codemirror_mode": {
    "name": "ipython",
    "version": 3
   },
   "file_extension": ".py",
   "mimetype": "text/x-python",
   "name": "python",
   "nbconvert_exporter": "python",
   "pygments_lexer": "ipython3",
   "version": "3.12.9"
  }
 },
 "nbformat": 4,
 "nbformat_minor": 5
}
