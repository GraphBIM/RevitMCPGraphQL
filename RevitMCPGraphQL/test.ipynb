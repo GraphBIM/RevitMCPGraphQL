{
 "cells": [
  {
   "cell_type": "code",
   "execution_count": 32,
   "id": "f3808f95",
   "metadata": {},
   "outputs": [
    {
     "name": "stdout",
     "output_type": "stream",
     "text": [
      "200\n",
      "Revit GraphQL server is running. POST GraphQL to /graphql\n"
     ]
    }
   ],
   "source": [
    "import requests\n",
    "\n",
    "url = \"http://localhost:5000\"\n",
    "response = requests.get(url)\n",
    "print(response.status_code)\n",
    "print(response.text)"
   ]
  },
  {
   "cell_type": "code",
   "execution_count": 33,
   "id": "42242bb5",
   "metadata": {},
   "outputs": [
    {
     "name": "stdout",
     "output_type": "stream",
     "text": [
      "{\n",
      "  \"data\": {\n",
      "    \"health\": \"ok\"\n",
      "  }\n",
      "}\n"
     ]
    }
   ],
   "source": [
    "import requests\n",
    "\n",
    "url = \"http://localhost:5000/graphql\"\n",
    "query = \"\"\"\n",
    "{\n",
    "  health\n",
    "}\n",
    "\"\"\"\n",
    "\n",
    "response = requests.post(url, json={'query': query})\n",
    "data = response.json()\n",
    "import json\n",
    "# print indented JSON response\n",
    "print(json.dumps(data, indent=2))\n"
   ]
  },
  {
   "cell_type": "code",
   "execution_count": null,
   "id": "f62b12a7",
   "metadata": {},
   "outputs": [],
   "source": [
    "import requests\n",
    "import json\n",
    "\n",
    "url = \"http://localhost:5000/graphql\"\n",
    "query = \"\"\"\n",
    "{\n",
    "  categories {\n",
    "    id\n",
    "    name\n",
    "  }\n",
    "}\n",
    "\"\"\"\n",
    "\n",
    "response = requests.post(url, json={'query': query})\n",
    "print(json.dumps(response.json(), indent=2))"
   ]
  },
  {
   "cell_type": "code",
   "execution_count": 35,
   "id": "976108b9",
   "metadata": {},
   "outputs": [
    {
     "name": "stdout",
     "output_type": "stream",
     "text": [
      "{\n",
      "  \"data\": {\n",
      "    \"elements\": [\n",
      "      {\n",
      "        \"id\": 348980,\n",
      "        \"name\": \"Generic - 200mm\"\n",
      "      },\n",
      "      {\n",
      "        \"id\": 349063,\n",
      "        \"name\": \"Generic - 200mm\"\n",
      "      },\n",
      "      {\n",
      "        \"id\": 349104,\n",
      "        \"name\": \"Generic - 200mm\"\n",
      "      },\n",
      "      {\n",
      "        \"id\": 349189,\n",
      "        \"name\": \"Generic - 200mm\"\n",
      "      }\n",
      "    ]\n",
      "  }\n",
      "}\n"
     ]
    }
   ],
   "source": [
    "query = \"\"\"\n",
    "{\n",
    "  elements(categoryName: \"Walls\") {\n",
    "    id\n",
    "    name\n",
    "  }\n",
    "}\n",
    "\"\"\"\n",
    "# Replace \"Walls\" with any valid category name in your model.\n",
    "response = requests.post(url, json={'query': query})\n",
    "print(json.dumps(response.json(), indent=2))"
   ]
  },
  {
   "cell_type": "code",
   "execution_count": 19,
   "id": "b0dec2cf",
   "metadata": {},
   "outputs": [
    {
     "name": "stdout",
     "output_type": "stream",
     "text": [
      "{\n",
      "  \"data\": {\n",
      "    \"rooms\": [\n",
      "      {\n",
      "        \"id\": 349441,\n",
      "        \"name\": \"one room 1\",\n",
      "        \"number\": \"1\",\n",
      "        \"area\": 822.7933122532913\n",
      "      }\n",
      "    ]\n",
      "  }\n",
      "}\n"
     ]
    }
   ],
   "source": [
    "query = \"\"\"\n",
    "{\n",
    "  rooms {\n",
    "    id\n",
    "    name\n",
    "    number\n",
    "    area\n",
    "  }\n",
    "}\n",
    "\"\"\"\n",
    "response = requests.post(url, json={'query': query})\n",
    "print(json.dumps(response.json(), indent=2))"
   ]
  }
 ],
 "metadata": {
  "kernelspec": {
   "display_name": "base",
   "language": "python",
   "name": "python3"
  },
  "language_info": {
   "codemirror_mode": {
    "name": "ipython",
    "version": 3
   },
   "file_extension": ".py",
   "mimetype": "text/x-python",
   "name": "python",
   "nbconvert_exporter": "python",
   "pygments_lexer": "ipython3",
   "version": "3.12.9"
  }
 },
 "nbformat": 4,
 "nbformat_minor": 5
}
